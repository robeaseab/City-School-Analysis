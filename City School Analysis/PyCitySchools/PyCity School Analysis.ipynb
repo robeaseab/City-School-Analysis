{
 "cells": [
  {
   "cell_type": "markdown",
   "metadata": {},
   "source": [
    "# PyCity Schools Analysis\n",
    "\n",
    "* As a whole, schools with higher budgets, did not yield better test results. By contrast, schools with higher spending per student actually (\\$645-675) underperformed compared to schools with smaller budgets (<\\$585 per student).\n",
    "\n",
    "* As a whole, smaller and medium sized schools dramatically out-performed large sized schools on passing math performances (89-91% passing vs 67%).\n",
    "\n",
    "* As a whole, charter schools out-performed the public district schools across all metrics. However, more analysis will be required to glean if the effect is due to school practices or the fact that charter schools tend to serve smaller student populations per school. \n",
    "---"
   ]
  },
  {
   "cell_type": "markdown",
   "metadata": {},
   "source": [
    "### Note\n",
    "* Instructions have been included for each segment. You do not have to follow them exactly, but they are included to help you think through the steps."
   ]
  },
  {
   "cell_type": "code",
   "execution_count": 1,
   "metadata": {},
   "outputs": [],
   "source": [
    "# Dependencies and Setup\n",
    "import pandas as pd\n",
    "import numpy as np"
   ]
  },
  {
   "cell_type": "code",
   "execution_count": 2,
   "metadata": {},
   "outputs": [],
   "source": [
    "# File to Load (Remember to Change These)\n",
    "school_data_to_load = \"Resources/schools_complete.csv\"\n",
    "student_data_to_load = \"Resources/students_complete.csv\""
   ]
  },
  {
   "cell_type": "code",
   "execution_count": 3,
   "metadata": {},
   "outputs": [
    {
     "data": {
      "text/html": [
       "<div>\n",
       "<style scoped>\n",
       "    .dataframe tbody tr th:only-of-type {\n",
       "        vertical-align: middle;\n",
       "    }\n",
       "\n",
       "    .dataframe tbody tr th {\n",
       "        vertical-align: top;\n",
       "    }\n",
       "\n",
       "    .dataframe thead th {\n",
       "        text-align: right;\n",
       "    }\n",
       "</style>\n",
       "<table border=\"1\" class=\"dataframe\">\n",
       "  <thead>\n",
       "    <tr style=\"text-align: right;\">\n",
       "      <th></th>\n",
       "      <th>Student ID</th>\n",
       "      <th>student_name</th>\n",
       "      <th>gender</th>\n",
       "      <th>grade</th>\n",
       "      <th>school_name</th>\n",
       "      <th>reading_score</th>\n",
       "      <th>math_score</th>\n",
       "    </tr>\n",
       "  </thead>\n",
       "  <tbody>\n",
       "    <tr>\n",
       "      <th>0</th>\n",
       "      <td>0</td>\n",
       "      <td>Paul Bradley</td>\n",
       "      <td>M</td>\n",
       "      <td>9th</td>\n",
       "      <td>Huang High School</td>\n",
       "      <td>66</td>\n",
       "      <td>79</td>\n",
       "    </tr>\n",
       "    <tr>\n",
       "      <th>1</th>\n",
       "      <td>1</td>\n",
       "      <td>Victor Smith</td>\n",
       "      <td>M</td>\n",
       "      <td>12th</td>\n",
       "      <td>Huang High School</td>\n",
       "      <td>94</td>\n",
       "      <td>61</td>\n",
       "    </tr>\n",
       "    <tr>\n",
       "      <th>2</th>\n",
       "      <td>2</td>\n",
       "      <td>Kevin Rodriguez</td>\n",
       "      <td>M</td>\n",
       "      <td>12th</td>\n",
       "      <td>Huang High School</td>\n",
       "      <td>90</td>\n",
       "      <td>60</td>\n",
       "    </tr>\n",
       "    <tr>\n",
       "      <th>3</th>\n",
       "      <td>3</td>\n",
       "      <td>Dr. Richard Scott</td>\n",
       "      <td>M</td>\n",
       "      <td>12th</td>\n",
       "      <td>Huang High School</td>\n",
       "      <td>67</td>\n",
       "      <td>58</td>\n",
       "    </tr>\n",
       "    <tr>\n",
       "      <th>4</th>\n",
       "      <td>4</td>\n",
       "      <td>Bonnie Ray</td>\n",
       "      <td>F</td>\n",
       "      <td>9th</td>\n",
       "      <td>Huang High School</td>\n",
       "      <td>97</td>\n",
       "      <td>84</td>\n",
       "    </tr>\n",
       "  </tbody>\n",
       "</table>\n",
       "</div>"
      ],
      "text/plain": [
       "   Student ID       student_name gender grade        school_name  \\\n",
       "0           0       Paul Bradley      M   9th  Huang High School   \n",
       "1           1       Victor Smith      M  12th  Huang High School   \n",
       "2           2    Kevin Rodriguez      M  12th  Huang High School   \n",
       "3           3  Dr. Richard Scott      M  12th  Huang High School   \n",
       "4           4         Bonnie Ray      F   9th  Huang High School   \n",
       "\n",
       "   reading_score  math_score  \n",
       "0             66          79  \n",
       "1             94          61  \n",
       "2             90          60  \n",
       "3             67          58  \n",
       "4             97          84  "
      ]
     },
     "execution_count": 3,
     "metadata": {},
     "output_type": "execute_result"
    }
   ],
   "source": [
    "# Read School and Student Data File and store into Pandas Data Frames\n",
    "school_data = pd.read_csv(school_data_to_load)\n",
    "student_data = pd.read_csv(student_data_to_load)\n",
    "student_data.head()"
   ]
  },
  {
   "cell_type": "code",
   "execution_count": 4,
   "metadata": {},
   "outputs": [
    {
     "data": {
      "text/plain": [
       "Index(['School ID', 'school_name', 'type', 'size', 'budget'], dtype='object')"
      ]
     },
     "execution_count": 4,
     "metadata": {},
     "output_type": "execute_result"
    }
   ],
   "source": [
    "school_data.columns"
   ]
  },
  {
   "cell_type": "code",
   "execution_count": 5,
   "metadata": {},
   "outputs": [
    {
     "data": {
      "text/plain": [
       "Index(['Student ID', 'student_name', 'gender', 'grade', 'school_name',\n",
       "       'reading_score', 'math_score'],\n",
       "      dtype='object')"
      ]
     },
     "execution_count": 5,
     "metadata": {},
     "output_type": "execute_result"
    }
   ],
   "source": [
    "student_data.columns"
   ]
  },
  {
   "cell_type": "code",
   "execution_count": 6,
   "metadata": {},
   "outputs": [
    {
     "data": {
      "text/html": [
       "<div>\n",
       "<style scoped>\n",
       "    .dataframe tbody tr th:only-of-type {\n",
       "        vertical-align: middle;\n",
       "    }\n",
       "\n",
       "    .dataframe tbody tr th {\n",
       "        vertical-align: top;\n",
       "    }\n",
       "\n",
       "    .dataframe thead th {\n",
       "        text-align: right;\n",
       "    }\n",
       "</style>\n",
       "<table border=\"1\" class=\"dataframe\">\n",
       "  <thead>\n",
       "    <tr style=\"text-align: right;\">\n",
       "      <th></th>\n",
       "      <th>Student ID</th>\n",
       "      <th>student_name</th>\n",
       "      <th>gender</th>\n",
       "      <th>grade</th>\n",
       "      <th>school_name</th>\n",
       "      <th>reading_score</th>\n",
       "      <th>math_score</th>\n",
       "      <th>School ID</th>\n",
       "      <th>type</th>\n",
       "      <th>size</th>\n",
       "      <th>budget</th>\n",
       "    </tr>\n",
       "  </thead>\n",
       "  <tbody>\n",
       "    <tr>\n",
       "      <th>0</th>\n",
       "      <td>0</td>\n",
       "      <td>Paul Bradley</td>\n",
       "      <td>M</td>\n",
       "      <td>9th</td>\n",
       "      <td>Huang High School</td>\n",
       "      <td>66</td>\n",
       "      <td>79</td>\n",
       "      <td>0</td>\n",
       "      <td>District</td>\n",
       "      <td>2917</td>\n",
       "      <td>1910635</td>\n",
       "    </tr>\n",
       "    <tr>\n",
       "      <th>1</th>\n",
       "      <td>1</td>\n",
       "      <td>Victor Smith</td>\n",
       "      <td>M</td>\n",
       "      <td>12th</td>\n",
       "      <td>Huang High School</td>\n",
       "      <td>94</td>\n",
       "      <td>61</td>\n",
       "      <td>0</td>\n",
       "      <td>District</td>\n",
       "      <td>2917</td>\n",
       "      <td>1910635</td>\n",
       "    </tr>\n",
       "    <tr>\n",
       "      <th>2</th>\n",
       "      <td>2</td>\n",
       "      <td>Kevin Rodriguez</td>\n",
       "      <td>M</td>\n",
       "      <td>12th</td>\n",
       "      <td>Huang High School</td>\n",
       "      <td>90</td>\n",
       "      <td>60</td>\n",
       "      <td>0</td>\n",
       "      <td>District</td>\n",
       "      <td>2917</td>\n",
       "      <td>1910635</td>\n",
       "    </tr>\n",
       "    <tr>\n",
       "      <th>3</th>\n",
       "      <td>3</td>\n",
       "      <td>Dr. Richard Scott</td>\n",
       "      <td>M</td>\n",
       "      <td>12th</td>\n",
       "      <td>Huang High School</td>\n",
       "      <td>67</td>\n",
       "      <td>58</td>\n",
       "      <td>0</td>\n",
       "      <td>District</td>\n",
       "      <td>2917</td>\n",
       "      <td>1910635</td>\n",
       "    </tr>\n",
       "    <tr>\n",
       "      <th>4</th>\n",
       "      <td>4</td>\n",
       "      <td>Bonnie Ray</td>\n",
       "      <td>F</td>\n",
       "      <td>9th</td>\n",
       "      <td>Huang High School</td>\n",
       "      <td>97</td>\n",
       "      <td>84</td>\n",
       "      <td>0</td>\n",
       "      <td>District</td>\n",
       "      <td>2917</td>\n",
       "      <td>1910635</td>\n",
       "    </tr>\n",
       "  </tbody>\n",
       "</table>\n",
       "</div>"
      ],
      "text/plain": [
       "   Student ID       student_name gender grade        school_name  \\\n",
       "0           0       Paul Bradley      M   9th  Huang High School   \n",
       "1           1       Victor Smith      M  12th  Huang High School   \n",
       "2           2    Kevin Rodriguez      M  12th  Huang High School   \n",
       "3           3  Dr. Richard Scott      M  12th  Huang High School   \n",
       "4           4         Bonnie Ray      F   9th  Huang High School   \n",
       "\n",
       "   reading_score  math_score  School ID      type  size   budget  \n",
       "0             66          79          0  District  2917  1910635  \n",
       "1             94          61          0  District  2917  1910635  \n",
       "2             90          60          0  District  2917  1910635  \n",
       "3             67          58          0  District  2917  1910635  \n",
       "4             97          84          0  District  2917  1910635  "
      ]
     },
     "execution_count": 6,
     "metadata": {},
     "output_type": "execute_result"
    }
   ],
   "source": [
    "# Combine the data into a single dataset\n",
    "school_data_complete = pd.merge(student_data, school_data, how=\"left\", on=[\"school_name\", \"school_name\"])\n",
    "school_data_complete.head()"
   ]
  },
  {
   "cell_type": "markdown",
   "metadata": {},
   "source": [
    "## District Summary\n",
    "\n",
    "* Calculate the total number of schools\n",
    "\n",
    "* Calculate the total number of students\n",
    "\n",
    "* Calculate the total budget\n",
    "\n",
    "* Calculate the average math score \n",
    "\n",
    "* Calculate the average reading score\n",
    "\n",
    "* Calculate the overall passing rate (overall average score), i.e. (avg. math score + avg. reading score)/2\n",
    "\n",
    "* Calculate the percentage of students with a passing math score (70 or greater)\n",
    "\n",
    "* Calculate the percentage of students with a passing reading score (70 or greater)\n",
    "\n",
    "* Create a dataframe to hold the above results\n",
    "\n",
    "* Optional: give the displayed data cleaner formatting"
   ]
  },
  {
   "cell_type": "code",
   "execution_count": 7,
   "metadata": {},
   "outputs": [
    {
     "data": {
      "text/plain": [
       "15"
      ]
     },
     "execution_count": 7,
     "metadata": {},
     "output_type": "execute_result"
    }
   ],
   "source": [
    "total_schools = len(school_data_complete[\"school_name\"].unique())\n",
    "total_schools"
   ]
  },
  {
   "cell_type": "code",
   "execution_count": 8,
   "metadata": {},
   "outputs": [
    {
     "data": {
      "text/plain": [
       "39170"
      ]
     },
     "execution_count": 8,
     "metadata": {},
     "output_type": "execute_result"
    }
   ],
   "source": [
    "total_students = school_data_complete[\"Student ID\"].count()\n",
    "total_students"
   ]
  },
  {
   "cell_type": "code",
   "execution_count": 9,
   "metadata": {},
   "outputs": [
    {
     "data": {
      "text/plain": [
       "24649428"
      ]
     },
     "execution_count": 9,
     "metadata": {},
     "output_type": "execute_result"
    }
   ],
   "source": [
    "total_budget = school_data[\"budget\"].sum()\n",
    "total_budget"
   ]
  },
  {
   "cell_type": "code",
   "execution_count": 10,
   "metadata": {},
   "outputs": [
    {
     "data": {
      "text/plain": [
       "78.98537145774827"
      ]
     },
     "execution_count": 10,
     "metadata": {},
     "output_type": "execute_result"
    }
   ],
   "source": [
    "avg_math = school_data_complete[\"math_score\"].mean()\n",
    "avg_math"
   ]
  },
  {
   "cell_type": "code",
   "execution_count": 11,
   "metadata": {},
   "outputs": [
    {
     "data": {
      "text/plain": [
       "81.87784018381414"
      ]
     },
     "execution_count": 11,
     "metadata": {},
     "output_type": "execute_result"
    }
   ],
   "source": [
    "avg_reading = school_data_complete[\"reading_score\"].mean()\n",
    "avg_reading"
   ]
  },
  {
   "cell_type": "code",
   "execution_count": 12,
   "metadata": {},
   "outputs": [
    {
     "data": {
      "text/plain": [
       "74.9808526933878"
      ]
     },
     "execution_count": 12,
     "metadata": {},
     "output_type": "execute_result"
    }
   ],
   "source": [
    "passing_math_count = school_data_complete[(school_data_complete[\"math_score\"] >= 70)].count()[\"student_name\"]\n",
    "percentage_pass_math= passing_math_count/total_students*100\n",
    "percentage_pass_math"
   ]
  },
  {
   "cell_type": "code",
   "execution_count": 13,
   "metadata": {},
   "outputs": [
    {
     "data": {
      "text/plain": [
       "85.80546336482001"
      ]
     },
     "execution_count": 13,
     "metadata": {},
     "output_type": "execute_result"
    }
   ],
   "source": [
    "passsing_read_count = school_data_complete[(school_data_complete[\"reading_score\"] >= 70)].count()[\"student_name\"]\n",
    "percentage_pass_read= passsing_read_count/total_students*100\n",
    "percentage_pass_read"
   ]
  },
  {
   "cell_type": "code",
   "execution_count": 14,
   "metadata": {},
   "outputs": [
    {
     "data": {
      "text/plain": [
       "80.39315802910392"
      ]
     },
     "execution_count": 14,
     "metadata": {},
     "output_type": "execute_result"
    }
   ],
   "source": [
    "overall_passing_rate = (percentage_pass_math + percentage_pass_read)/2\n",
    "overall_passing_rate"
   ]
  },
  {
   "cell_type": "code",
   "execution_count": 15,
   "metadata": {},
   "outputs": [
    {
     "data": {
      "text/html": [
       "<div>\n",
       "<style scoped>\n",
       "    .dataframe tbody tr th:only-of-type {\n",
       "        vertical-align: middle;\n",
       "    }\n",
       "\n",
       "    .dataframe tbody tr th {\n",
       "        vertical-align: top;\n",
       "    }\n",
       "\n",
       "    .dataframe thead th {\n",
       "        text-align: right;\n",
       "    }\n",
       "</style>\n",
       "<table border=\"1\" class=\"dataframe\">\n",
       "  <thead>\n",
       "    <tr style=\"text-align: right;\">\n",
       "      <th></th>\n",
       "      <th>Number of Schools</th>\n",
       "      <th>Number of Students</th>\n",
       "      <th>Total Budget</th>\n",
       "      <th>Average Math Score</th>\n",
       "      <th>Average Reading Score</th>\n",
       "      <th>Math Passing Rate(%)</th>\n",
       "      <th>Reading Passing Rate(%)</th>\n",
       "      <th>Overall Passing Rate(%)</th>\n",
       "    </tr>\n",
       "  </thead>\n",
       "  <tbody>\n",
       "    <tr>\n",
       "      <th>0</th>\n",
       "      <td>15</td>\n",
       "      <td>39,170</td>\n",
       "      <td>$24,649,428.00</td>\n",
       "      <td>78.99</td>\n",
       "      <td>81.88</td>\n",
       "      <td>74.98%</td>\n",
       "      <td>85.81%</td>\n",
       "      <td>80.39%</td>\n",
       "    </tr>\n",
       "  </tbody>\n",
       "</table>\n",
       "</div>"
      ],
      "text/plain": [
       "   Number of Schools Number of Students    Total Budget Average Math Score  \\\n",
       "0                 15             39,170  $24,649,428.00              78.99   \n",
       "\n",
       "  Average Reading Score Math Passing Rate(%) Reading Passing Rate(%)  \\\n",
       "0                 81.88               74.98%                  85.81%   \n",
       "\n",
       "  Overall Passing Rate(%)  \n",
       "0                  80.39%  "
      ]
     },
     "execution_count": 15,
     "metadata": {},
     "output_type": "execute_result"
    }
   ],
   "source": [
    "district_summary =pd.DataFrame({\"Number of Schools\":[total_schools],\n",
    "                          \"Number of Students\":[total_students],\n",
    "                          \"Total Budget\": [total_budget],\n",
    "                          \"Average Math Score\":[avg_math],\n",
    "                          \"Average Reading Score\":[avg_reading],\n",
    "                          \"Math Passing Rate(%)\":[percentage_pass_math],\n",
    "                          \"Reading Passing Rate(%)\":[percentage_pass_read],\n",
    "                                \"Overall Passing Rate(%)\":[overall_passing_rate]}) \n",
    "district_summary[\"Number of Students\"]=district_summary[\"Number of Students\"].map(\"{:,}\".format)\n",
    "district_summary[\"Total Budget\"]=district_summary[\"Total Budget\"].map(\"${:,.2f}\".format)\n",
    "district_summary[\"Average Math Score\"]=district_summary[\"Average Math Score\"].map(\"{:,.2f}\".format)\n",
    "district_summary[\"Average Reading Score\"]=district_summary[\"Average Reading Score\"].map(\"{:,.2f}\".format)\n",
    "district_summary[\"Math Passing Rate(%)\"]=district_summary[\"Math Passing Rate(%)\"].map(\"{:,.2f}%\".format)\n",
    "district_summary[\"Reading Passing Rate(%)\"]=district_summary[\"Reading Passing Rate(%)\"].map(\"{:,.2f}%\".format)\n",
    "district_summary[\"Overall Passing Rate(%)\"]=district_summary[\"Overall Passing Rate(%)\"].map(\"{:,.2f}%\".format)\n",
    "district_summary"
   ]
  },
  {
   "cell_type": "markdown",
   "metadata": {},
   "source": [
    "* Create an overview table that summarizes key metrics about each school, including:\n",
    "  * School Name\n",
    "  * School Type\n",
    "  * Total Students\n",
    "  * Total School Budget\n",
    "  * Per Student Budget\n",
    "  * Average Math Score\n",
    "  * Average Reading Score\n",
    "  * % Passing Math\n",
    "  * % Passing Reading\n",
    "  * Overall Passing Rate (Average of the above two)\n",
    "  \n",
    "* Create a dataframe to hold the above results"
   ]
  },
  {
   "cell_type": "markdown",
   "metadata": {},
   "source": [
    "## School Summary"
   ]
  },
  {
   "cell_type": "markdown",
   "metadata": {},
   "source": [
    "## Top Performing Schools (By Passing Rate)"
   ]
  },
  {
   "cell_type": "markdown",
   "metadata": {},
   "source": [
    "* Sort and display the top five schools in overall passing rate\n",
    "* Sort and display the five worst-performing schools"
   ]
  },
  {
   "cell_type": "markdown",
   "metadata": {},
   "source": [
    "## Bottom Performing Schools (By Passing Rate)"
   ]
  },
  {
   "cell_type": "code",
   "execution_count": 16,
   "metadata": {},
   "outputs": [
    {
     "data": {
      "text/plain": [
       "school_name\n",
       "Huang High School        District\n",
       "Figueroa High School     District\n",
       "Shelton High School       Charter\n",
       "Hernandez High School    District\n",
       "Griffin High School       Charter\n",
       "Name: type, dtype: object"
      ]
     },
     "execution_count": 16,
     "metadata": {},
     "output_type": "execute_result"
    }
   ],
   "source": [
    "school_types= school_data.set_index([\"school_name\"])[\"type\"]\n",
    "school_types.head()  "
   ]
  },
  {
   "cell_type": "code",
   "execution_count": 17,
   "metadata": {},
   "outputs": [
    {
     "data": {
      "text/plain": [
       "Bailey High School       4976\n",
       "Johnson High School      4761\n",
       "Hernandez High School    4635\n",
       "Rodriguez High School    3999\n",
       "Figueroa High School     2949\n",
       "Name: school_name, dtype: int64"
      ]
     },
     "execution_count": 17,
     "metadata": {},
     "output_type": "execute_result"
    }
   ],
   "source": [
    "per_school_counts = school_data_complete[\"school_name\"].value_counts()\n",
    "per_school_counts.head()\n"
   ]
  },
  {
   "cell_type": "code",
   "execution_count": 18,
   "metadata": {},
   "outputs": [
    {
     "data": {
      "text/plain": [
       "school_name\n",
       "Bailey High School      3124928.0\n",
       "Cabrera High School     1081356.0\n",
       "Figueroa High School    1884411.0\n",
       "Ford High School        1763916.0\n",
       "Griffin High School      917500.0\n",
       "Name: budget, dtype: float64"
      ]
     },
     "execution_count": 18,
     "metadata": {},
     "output_type": "execute_result"
    }
   ],
   "source": [
    "total_school_budget = school_data_complete.groupby([\"school_name\"]).mean()[\"budget\"]\n",
    "total_school_budget.head()\n"
   ]
  },
  {
   "cell_type": "code",
   "execution_count": 19,
   "metadata": {
    "scrolled": true
   },
   "outputs": [
    {
     "data": {
      "text/plain": [
       "Bailey High School      628.0\n",
       "Cabrera High School     582.0\n",
       "Figueroa High School    639.0\n",
       "Ford High School        644.0\n",
       "Griffin High School     625.0\n",
       "dtype: float64"
      ]
     },
     "execution_count": 19,
     "metadata": {},
     "output_type": "execute_result"
    }
   ],
   "source": [
    "per_student_budget = total_school_budget/per_school_counts\n",
    "per_student_budget.head()"
   ]
  },
  {
   "cell_type": "code",
   "execution_count": 20,
   "metadata": {},
   "outputs": [
    {
     "data": {
      "text/plain": [
       "school_name\n",
       "Bailey High School      77.048432\n",
       "Cabrera High School     83.061895\n",
       "Figueroa High School    76.711767\n",
       "Ford High School        77.102592\n",
       "Griffin High School     83.351499\n",
       "Name: math_score, dtype: float64"
      ]
     },
     "execution_count": 20,
     "metadata": {},
     "output_type": "execute_result"
    }
   ],
   "source": [
    "average_math_score = school_data_complete.groupby([\"school_name\"]).mean()[\"math_score\"]\n",
    "average_math_score.head()\n"
   ]
  },
  {
   "cell_type": "code",
   "execution_count": 21,
   "metadata": {},
   "outputs": [
    {
     "data": {
      "text/plain": [
       "school_name\n",
       "Bailey High School      81.033963\n",
       "Cabrera High School     83.975780\n",
       "Figueroa High School    81.158020\n",
       "Ford High School        80.746258\n",
       "Griffin High School     83.816757\n",
       "Name: reading_score, dtype: float64"
      ]
     },
     "execution_count": 21,
     "metadata": {},
     "output_type": "execute_result"
    }
   ],
   "source": [
    "average_reading_score = school_data_complete.groupby([\"school_name\"]).mean()[\"reading_score\"]\n",
    "average_reading_score.head()\n"
   ]
  },
  {
   "cell_type": "code",
   "execution_count": 22,
   "metadata": {},
   "outputs": [
    {
     "data": {
      "text/plain": [
       "Bailey High School      66.680064\n",
       "Cabrera High School     94.133477\n",
       "Figueroa High School    65.988471\n",
       "Ford High School        68.309602\n",
       "Griffin High School     93.392371\n",
       "dtype: float64"
      ]
     },
     "execution_count": 22,
     "metadata": {},
     "output_type": "execute_result"
    }
   ],
   "source": [
    "passing_math_df= school_data_complete[(school_data_complete[\"math_score\"] >= 70)]\n",
    "passing_math_df.head()\n",
    "\n",
    "count_mathpass_by_school=passing_math_df.groupby([\"school_name\"]).count()[\"math_score\"]\n",
    "\n",
    "percent_mathpass_by_school = count_mathpass_by_school/per_school_counts*100\n",
    "percent_mathpass_by_school.head()"
   ]
  },
  {
   "cell_type": "code",
   "execution_count": 23,
   "metadata": {},
   "outputs": [
    {
     "data": {
      "text/plain": [
       "Bailey High School      81.933280\n",
       "Cabrera High School     97.039828\n",
       "Figueroa High School    80.739234\n",
       "Ford High School        79.299014\n",
       "Griffin High School     97.138965\n",
       "dtype: float64"
      ]
     },
     "execution_count": 23,
     "metadata": {},
     "output_type": "execute_result"
    }
   ],
   "source": [
    "passing_read_df= school_data_complete[(school_data_complete[\"reading_score\"] >= 70)]\n",
    "\n",
    "\n",
    "count_readpass_by_school=passing_read_df.groupby([\"school_name\"]).count()[\"reading_score\"]\n",
    "\n",
    "percent_readpass_by_school = count_readpass_by_school/per_school_counts*100\n",
    "percent_readpass_by_school.head()"
   ]
  },
  {
   "cell_type": "code",
   "execution_count": 24,
   "metadata": {},
   "outputs": [
    {
     "data": {
      "text/plain": [
       "Bailey High School      74.306672\n",
       "Cabrera High School     95.586652\n",
       "Figueroa High School    73.363852\n",
       "Ford High School        73.804308\n",
       "Griffin High School     95.265668\n",
       "dtype: float64"
      ]
     },
     "execution_count": 24,
     "metadata": {},
     "output_type": "execute_result"
    }
   ],
   "source": [
    "overall_passing_rate=(percent_mathpass_by_school+percent_readpass_by_school)/2\n",
    "overall_passing_rate.head()"
   ]
  },
  {
   "cell_type": "code",
   "execution_count": 25,
   "metadata": {},
   "outputs": [
    {
     "data": {
      "text/html": [
       "<div>\n",
       "<style scoped>\n",
       "    .dataframe tbody tr th:only-of-type {\n",
       "        vertical-align: middle;\n",
       "    }\n",
       "\n",
       "    .dataframe tbody tr th {\n",
       "        vertical-align: top;\n",
       "    }\n",
       "\n",
       "    .dataframe thead th {\n",
       "        text-align: right;\n",
       "    }\n",
       "</style>\n",
       "<table border=\"1\" class=\"dataframe\">\n",
       "  <thead>\n",
       "    <tr style=\"text-align: right;\">\n",
       "      <th></th>\n",
       "      <th>School Type</th>\n",
       "      <th>Number of Students</th>\n",
       "      <th>Total School Budget</th>\n",
       "      <th>Budget per Student</th>\n",
       "      <th>Average Math Score</th>\n",
       "      <th>Average Reading Score</th>\n",
       "      <th>Math Passing Rate(%)</th>\n",
       "      <th>Reading Passing Rate(%)</th>\n",
       "      <th>Overall Passing Rate(%)</th>\n",
       "    </tr>\n",
       "  </thead>\n",
       "  <tbody>\n",
       "    <tr>\n",
       "      <th>Bailey High School</th>\n",
       "      <td>District</td>\n",
       "      <td>4,976</td>\n",
       "      <td>$3,124,928.00</td>\n",
       "      <td>$628.00</td>\n",
       "      <td>77.05</td>\n",
       "      <td>81.03</td>\n",
       "      <td>66.68%</td>\n",
       "      <td>81.93%</td>\n",
       "      <td>74.31%</td>\n",
       "    </tr>\n",
       "    <tr>\n",
       "      <th>Cabrera High School</th>\n",
       "      <td>Charter</td>\n",
       "      <td>1,858</td>\n",
       "      <td>$1,081,356.00</td>\n",
       "      <td>$582.00</td>\n",
       "      <td>83.06</td>\n",
       "      <td>83.98</td>\n",
       "      <td>94.13%</td>\n",
       "      <td>97.04%</td>\n",
       "      <td>95.59%</td>\n",
       "    </tr>\n",
       "    <tr>\n",
       "      <th>Figueroa High School</th>\n",
       "      <td>District</td>\n",
       "      <td>2,949</td>\n",
       "      <td>$1,884,411.00</td>\n",
       "      <td>$639.00</td>\n",
       "      <td>76.71</td>\n",
       "      <td>81.16</td>\n",
       "      <td>65.99%</td>\n",
       "      <td>80.74%</td>\n",
       "      <td>73.36%</td>\n",
       "    </tr>\n",
       "    <tr>\n",
       "      <th>Ford High School</th>\n",
       "      <td>District</td>\n",
       "      <td>2,739</td>\n",
       "      <td>$1,763,916.00</td>\n",
       "      <td>$644.00</td>\n",
       "      <td>77.10</td>\n",
       "      <td>80.75</td>\n",
       "      <td>68.31%</td>\n",
       "      <td>79.30%</td>\n",
       "      <td>73.80%</td>\n",
       "    </tr>\n",
       "    <tr>\n",
       "      <th>Griffin High School</th>\n",
       "      <td>Charter</td>\n",
       "      <td>1,468</td>\n",
       "      <td>$917,500.00</td>\n",
       "      <td>$625.00</td>\n",
       "      <td>83.35</td>\n",
       "      <td>83.82</td>\n",
       "      <td>93.39%</td>\n",
       "      <td>97.14%</td>\n",
       "      <td>95.27%</td>\n",
       "    </tr>\n",
       "  </tbody>\n",
       "</table>\n",
       "</div>"
      ],
      "text/plain": [
       "                     School Type Number of Students Total School Budget  \\\n",
       "Bailey High School      District              4,976       $3,124,928.00   \n",
       "Cabrera High School      Charter              1,858       $1,081,356.00   \n",
       "Figueroa High School    District              2,949       $1,884,411.00   \n",
       "Ford High School        District              2,739       $1,763,916.00   \n",
       "Griffin High School      Charter              1,468         $917,500.00   \n",
       "\n",
       "                     Budget per Student Average Math Score  \\\n",
       "Bailey High School              $628.00              77.05   \n",
       "Cabrera High School             $582.00              83.06   \n",
       "Figueroa High School            $639.00              76.71   \n",
       "Ford High School                $644.00              77.10   \n",
       "Griffin High School             $625.00              83.35   \n",
       "\n",
       "                     Average Reading Score Math Passing Rate(%)  \\\n",
       "Bailey High School                   81.03               66.68%   \n",
       "Cabrera High School                  83.98               94.13%   \n",
       "Figueroa High School                 81.16               65.99%   \n",
       "Ford High School                     80.75               68.31%   \n",
       "Griffin High School                  83.82               93.39%   \n",
       "\n",
       "                     Reading Passing Rate(%) Overall Passing Rate(%)  \n",
       "Bailey High School                    81.93%                  74.31%  \n",
       "Cabrera High School                   97.04%                  95.59%  \n",
       "Figueroa High School                  80.74%                  73.36%  \n",
       "Ford High School                      79.30%                  73.80%  \n",
       "Griffin High School                   97.14%                  95.27%  "
      ]
     },
     "execution_count": 25,
     "metadata": {},
     "output_type": "execute_result"
    }
   ],
   "source": [
    "school_sum_unformatted = pd.DataFrame({\"School Type\":school_types,\n",
    "\"Number of Students\":per_school_counts,\n",
    "\"Total School Budget\":total_school_budget,\n",
    "\"Budget per Student\": per_student_budget,\n",
    "\"Average Math Score\":average_math_score,\n",
    "\"Average Reading Score\":average_reading_score,\n",
    "\"Math Passing Rate(%)\":percent_mathpass_by_school,\n",
    "\"Reading Passing Rate(%)\":percent_readpass_by_school,\n",
    "\"Overall Passing Rate(%)\":overall_passing_rate})\n",
    "school_summary=school_sum_unformatted\n",
    "school_summary[\"Number of Students\"]=school_summary[\"Number of Students\"].map(\"{:,}\".format)\n",
    "school_summary[\"Total School Budget\"]=school_summary[\"Total School Budget\"].map(\"${:,.2f}\".format)\n",
    "school_summary[\"Budget per Student\"]=school_summary[\"Budget per Student\"].map(\"${:,.2f}\".format)\n",
    "school_summary[\"Average Math Score\"]=school_summary[\"Average Math Score\"].map(\"{:,.2f}\".format)\n",
    "school_summary[\"Average Reading Score\"]=school_summary[\"Average Reading Score\"].map(\"{:,.2f}\".format)\n",
    "school_summary[\"Math Passing Rate(%)\"]=school_summary[\"Math Passing Rate(%)\"].map(\"{:,.2f}%\".format)\n",
    "school_summary[\"Reading Passing Rate(%)\"]=school_summary[\"Reading Passing Rate(%)\"].map(\"{:,.2f}%\".format)\n",
    "school_summary[\"Overall Passing Rate(%)\"]=school_summary[\"Overall Passing Rate(%)\"].map(\"{:,.2f}%\".format)\n",
    "\n",
    "school_summary.head()\n",
    "\n"
   ]
  },
  {
   "cell_type": "code",
   "execution_count": 26,
   "metadata": {},
   "outputs": [
    {
     "data": {
      "text/html": [
       "<div>\n",
       "<style scoped>\n",
       "    .dataframe tbody tr th:only-of-type {\n",
       "        vertical-align: middle;\n",
       "    }\n",
       "\n",
       "    .dataframe tbody tr th {\n",
       "        vertical-align: top;\n",
       "    }\n",
       "\n",
       "    .dataframe thead th {\n",
       "        text-align: right;\n",
       "    }\n",
       "</style>\n",
       "<table border=\"1\" class=\"dataframe\">\n",
       "  <thead>\n",
       "    <tr style=\"text-align: right;\">\n",
       "      <th></th>\n",
       "      <th>School Type</th>\n",
       "      <th>Number of Students</th>\n",
       "      <th>Total School Budget</th>\n",
       "      <th>Budget per Student</th>\n",
       "      <th>Average Math Score</th>\n",
       "      <th>Average Reading Score</th>\n",
       "      <th>Math Passing Rate(%)</th>\n",
       "      <th>Reading Passing Rate(%)</th>\n",
       "      <th>Overall Passing Rate(%)</th>\n",
       "    </tr>\n",
       "  </thead>\n",
       "  <tbody>\n",
       "    <tr>\n",
       "      <th>Cabrera High School</th>\n",
       "      <td>Charter</td>\n",
       "      <td>1,858</td>\n",
       "      <td>$1,081,356.00</td>\n",
       "      <td>$582.00</td>\n",
       "      <td>83.06</td>\n",
       "      <td>83.98</td>\n",
       "      <td>94.13%</td>\n",
       "      <td>97.04%</td>\n",
       "      <td>95.59%</td>\n",
       "    </tr>\n",
       "    <tr>\n",
       "      <th>Thomas High School</th>\n",
       "      <td>Charter</td>\n",
       "      <td>1,635</td>\n",
       "      <td>$1,043,130.00</td>\n",
       "      <td>$638.00</td>\n",
       "      <td>83.42</td>\n",
       "      <td>83.85</td>\n",
       "      <td>93.27%</td>\n",
       "      <td>97.31%</td>\n",
       "      <td>95.29%</td>\n",
       "    </tr>\n",
       "    <tr>\n",
       "      <th>Griffin High School</th>\n",
       "      <td>Charter</td>\n",
       "      <td>1,468</td>\n",
       "      <td>$917,500.00</td>\n",
       "      <td>$625.00</td>\n",
       "      <td>83.35</td>\n",
       "      <td>83.82</td>\n",
       "      <td>93.39%</td>\n",
       "      <td>97.14%</td>\n",
       "      <td>95.27%</td>\n",
       "    </tr>\n",
       "    <tr>\n",
       "      <th>Pena High School</th>\n",
       "      <td>Charter</td>\n",
       "      <td>962</td>\n",
       "      <td>$585,858.00</td>\n",
       "      <td>$609.00</td>\n",
       "      <td>83.84</td>\n",
       "      <td>84.04</td>\n",
       "      <td>94.59%</td>\n",
       "      <td>95.95%</td>\n",
       "      <td>95.27%</td>\n",
       "    </tr>\n",
       "    <tr>\n",
       "      <th>Wilson High School</th>\n",
       "      <td>Charter</td>\n",
       "      <td>2,283</td>\n",
       "      <td>$1,319,574.00</td>\n",
       "      <td>$578.00</td>\n",
       "      <td>83.27</td>\n",
       "      <td>83.99</td>\n",
       "      <td>93.87%</td>\n",
       "      <td>96.54%</td>\n",
       "      <td>95.20%</td>\n",
       "    </tr>\n",
       "  </tbody>\n",
       "</table>\n",
       "</div>"
      ],
      "text/plain": [
       "                    School Type Number of Students Total School Budget  \\\n",
       "Cabrera High School     Charter              1,858       $1,081,356.00   \n",
       "Thomas High School      Charter              1,635       $1,043,130.00   \n",
       "Griffin High School     Charter              1,468         $917,500.00   \n",
       "Pena High School        Charter                962         $585,858.00   \n",
       "Wilson High School      Charter              2,283       $1,319,574.00   \n",
       "\n",
       "                    Budget per Student Average Math Score  \\\n",
       "Cabrera High School            $582.00              83.06   \n",
       "Thomas High School             $638.00              83.42   \n",
       "Griffin High School            $625.00              83.35   \n",
       "Pena High School               $609.00              83.84   \n",
       "Wilson High School             $578.00              83.27   \n",
       "\n",
       "                    Average Reading Score Math Passing Rate(%)  \\\n",
       "Cabrera High School                 83.98               94.13%   \n",
       "Thomas High School                  83.85               93.27%   \n",
       "Griffin High School                 83.82               93.39%   \n",
       "Pena High School                    84.04               94.59%   \n",
       "Wilson High School                  83.99               93.87%   \n",
       "\n",
       "                    Reading Passing Rate(%) Overall Passing Rate(%)  \n",
       "Cabrera High School                  97.04%                  95.59%  \n",
       "Thomas High School                   97.31%                  95.29%  \n",
       "Griffin High School                  97.14%                  95.27%  \n",
       "Pena High School                     95.95%                  95.27%  \n",
       "Wilson High School                   96.54%                  95.20%  "
      ]
     },
     "execution_count": 26,
     "metadata": {},
     "output_type": "execute_result"
    }
   ],
   "source": [
    "#top five schools by overall passing rate\n",
    "top_five = school_summary.sort_values(\"Overall Passing Rate(%)\", ascending=False)\n",
    "top_five.head()"
   ]
  },
  {
   "cell_type": "code",
   "execution_count": 27,
   "metadata": {
    "scrolled": true
   },
   "outputs": [
    {
     "data": {
      "text/html": [
       "<div>\n",
       "<style scoped>\n",
       "    .dataframe tbody tr th:only-of-type {\n",
       "        vertical-align: middle;\n",
       "    }\n",
       "\n",
       "    .dataframe tbody tr th {\n",
       "        vertical-align: top;\n",
       "    }\n",
       "\n",
       "    .dataframe thead th {\n",
       "        text-align: right;\n",
       "    }\n",
       "</style>\n",
       "<table border=\"1\" class=\"dataframe\">\n",
       "  <thead>\n",
       "    <tr style=\"text-align: right;\">\n",
       "      <th></th>\n",
       "      <th>School Type</th>\n",
       "      <th>Number of Students</th>\n",
       "      <th>Total School Budget</th>\n",
       "      <th>Budget per Student</th>\n",
       "      <th>Average Math Score</th>\n",
       "      <th>Average Reading Score</th>\n",
       "      <th>Math Passing Rate(%)</th>\n",
       "      <th>Reading Passing Rate(%)</th>\n",
       "      <th>Overall Passing Rate(%)</th>\n",
       "    </tr>\n",
       "  </thead>\n",
       "  <tbody>\n",
       "    <tr>\n",
       "      <th>Rodriguez High School</th>\n",
       "      <td>District</td>\n",
       "      <td>3,999</td>\n",
       "      <td>$2,547,363.00</td>\n",
       "      <td>$637.00</td>\n",
       "      <td>76.84</td>\n",
       "      <td>80.74</td>\n",
       "      <td>66.37%</td>\n",
       "      <td>80.22%</td>\n",
       "      <td>73.29%</td>\n",
       "    </tr>\n",
       "    <tr>\n",
       "      <th>Figueroa High School</th>\n",
       "      <td>District</td>\n",
       "      <td>2,949</td>\n",
       "      <td>$1,884,411.00</td>\n",
       "      <td>$639.00</td>\n",
       "      <td>76.71</td>\n",
       "      <td>81.16</td>\n",
       "      <td>65.99%</td>\n",
       "      <td>80.74%</td>\n",
       "      <td>73.36%</td>\n",
       "    </tr>\n",
       "    <tr>\n",
       "      <th>Huang High School</th>\n",
       "      <td>District</td>\n",
       "      <td>2,917</td>\n",
       "      <td>$1,910,635.00</td>\n",
       "      <td>$655.00</td>\n",
       "      <td>76.63</td>\n",
       "      <td>81.18</td>\n",
       "      <td>65.68%</td>\n",
       "      <td>81.32%</td>\n",
       "      <td>73.50%</td>\n",
       "    </tr>\n",
       "    <tr>\n",
       "      <th>Johnson High School</th>\n",
       "      <td>District</td>\n",
       "      <td>4,761</td>\n",
       "      <td>$3,094,650.00</td>\n",
       "      <td>$650.00</td>\n",
       "      <td>77.07</td>\n",
       "      <td>80.97</td>\n",
       "      <td>66.06%</td>\n",
       "      <td>81.22%</td>\n",
       "      <td>73.64%</td>\n",
       "    </tr>\n",
       "    <tr>\n",
       "      <th>Ford High School</th>\n",
       "      <td>District</td>\n",
       "      <td>2,739</td>\n",
       "      <td>$1,763,916.00</td>\n",
       "      <td>$644.00</td>\n",
       "      <td>77.10</td>\n",
       "      <td>80.75</td>\n",
       "      <td>68.31%</td>\n",
       "      <td>79.30%</td>\n",
       "      <td>73.80%</td>\n",
       "    </tr>\n",
       "  </tbody>\n",
       "</table>\n",
       "</div>"
      ],
      "text/plain": [
       "                      School Type Number of Students Total School Budget  \\\n",
       "Rodriguez High School    District              3,999       $2,547,363.00   \n",
       "Figueroa High School     District              2,949       $1,884,411.00   \n",
       "Huang High School        District              2,917       $1,910,635.00   \n",
       "Johnson High School      District              4,761       $3,094,650.00   \n",
       "Ford High School         District              2,739       $1,763,916.00   \n",
       "\n",
       "                      Budget per Student Average Math Score  \\\n",
       "Rodriguez High School            $637.00              76.84   \n",
       "Figueroa High School             $639.00              76.71   \n",
       "Huang High School                $655.00              76.63   \n",
       "Johnson High School              $650.00              77.07   \n",
       "Ford High School                 $644.00              77.10   \n",
       "\n",
       "                      Average Reading Score Math Passing Rate(%)  \\\n",
       "Rodriguez High School                 80.74               66.37%   \n",
       "Figueroa High School                  81.16               65.99%   \n",
       "Huang High School                     81.18               65.68%   \n",
       "Johnson High School                   80.97               66.06%   \n",
       "Ford High School                      80.75               68.31%   \n",
       "\n",
       "                      Reading Passing Rate(%) Overall Passing Rate(%)  \n",
       "Rodriguez High School                  80.22%                  73.29%  \n",
       "Figueroa High School                   80.74%                  73.36%  \n",
       "Huang High School                      81.32%                  73.50%  \n",
       "Johnson High School                    81.22%                  73.64%  \n",
       "Ford High School                       79.30%                  73.80%  "
      ]
     },
     "execution_count": 27,
     "metadata": {},
     "output_type": "execute_result"
    }
   ],
   "source": [
    "#bottom five schools by overall passing rate\n",
    "bottom_five = school_summary.sort_values(\"Overall Passing Rate(%)\", ascending=True)\n",
    "bottom_five.head()"
   ]
  },
  {
   "cell_type": "markdown",
   "metadata": {
    "collapsed": true
   },
   "source": [
    "## Math Scores by Grade"
   ]
  },
  {
   "cell_type": "markdown",
   "metadata": {},
   "source": [
    "* Create a table that lists the average Reading Score for students of each grade level (9th, 10th, 11th, 12th) at each school.\n",
    "\n",
    "  * Create a pandas series for each grade. Hint: use a conditional statement.\n",
    "  \n",
    "  * Group each series by school\n",
    "  \n",
    "  * Combine the series into a dataframe\n",
    "  \n",
    "  * Optional: give the displayed data cleaner formatting"
   ]
  },
  {
   "cell_type": "code",
   "execution_count": 28,
   "metadata": {},
   "outputs": [
    {
     "data": {
      "text/html": [
       "<div>\n",
       "<style scoped>\n",
       "    .dataframe tbody tr th:only-of-type {\n",
       "        vertical-align: middle;\n",
       "    }\n",
       "\n",
       "    .dataframe tbody tr th {\n",
       "        vertical-align: top;\n",
       "    }\n",
       "\n",
       "    .dataframe thead th {\n",
       "        text-align: right;\n",
       "    }\n",
       "</style>\n",
       "<table border=\"1\" class=\"dataframe\">\n",
       "  <thead>\n",
       "    <tr style=\"text-align: right;\">\n",
       "      <th></th>\n",
       "      <th>9th</th>\n",
       "      <th>10th</th>\n",
       "      <th>11th</th>\n",
       "      <th>12th</th>\n",
       "    </tr>\n",
       "    <tr>\n",
       "      <th>school_name</th>\n",
       "      <th></th>\n",
       "      <th></th>\n",
       "      <th></th>\n",
       "      <th></th>\n",
       "    </tr>\n",
       "  </thead>\n",
       "  <tbody>\n",
       "    <tr>\n",
       "      <th>Bailey High School</th>\n",
       "      <td>77.08</td>\n",
       "      <td>77.00</td>\n",
       "      <td>77.52</td>\n",
       "      <td>76.49</td>\n",
       "    </tr>\n",
       "    <tr>\n",
       "      <th>Cabrera High School</th>\n",
       "      <td>83.09</td>\n",
       "      <td>83.15</td>\n",
       "      <td>82.77</td>\n",
       "      <td>83.28</td>\n",
       "    </tr>\n",
       "    <tr>\n",
       "      <th>Figueroa High School</th>\n",
       "      <td>76.40</td>\n",
       "      <td>76.54</td>\n",
       "      <td>76.88</td>\n",
       "      <td>77.15</td>\n",
       "    </tr>\n",
       "    <tr>\n",
       "      <th>Ford High School</th>\n",
       "      <td>77.36</td>\n",
       "      <td>77.67</td>\n",
       "      <td>76.92</td>\n",
       "      <td>76.18</td>\n",
       "    </tr>\n",
       "    <tr>\n",
       "      <th>Griffin High School</th>\n",
       "      <td>82.04</td>\n",
       "      <td>84.23</td>\n",
       "      <td>83.84</td>\n",
       "      <td>83.36</td>\n",
       "    </tr>\n",
       "  </tbody>\n",
       "</table>\n",
       "</div>"
      ],
      "text/plain": [
       "                        9th   10th   11th   12th\n",
       "school_name                                     \n",
       "Bailey High School    77.08  77.00  77.52  76.49\n",
       "Cabrera High School   83.09  83.15  82.77  83.28\n",
       "Figueroa High School  76.40  76.54  76.88  77.15\n",
       "Ford High School      77.36  77.67  76.92  76.18\n",
       "Griffin High School   82.04  84.23  83.84  83.36"
      ]
     },
     "execution_count": 28,
     "metadata": {},
     "output_type": "execute_result"
    }
   ],
   "source": [
    "ninth_scores= school_data_complete[(school_data_complete[\"grade\"] == \"9th\")]\n",
    "tenth_scores= school_data_complete[(school_data_complete[\"grade\"] == \"10th\")]\n",
    "eleventh_scores= school_data_complete[(school_data_complete[\"grade\"] == \"11th\")]\n",
    "twelfth_scores= school_data_complete[(school_data_complete[\"grade\"] == \"12th\")]\n",
    "\n",
    "math_ninth=ninth_scores.groupby([\"school_name\"]).mean()[\"math_score\"]\n",
    "math_tenth=tenth_scores.groupby([\"school_name\"]).mean()[\"math_score\"]\n",
    "math_eleventh=eleventh_scores.groupby([\"school_name\"]).mean()[\"math_score\"]\n",
    "math_twelfth=twelfth_scores.groupby([\"school_name\"]).mean()[\"math_score\"]\n",
    "\n",
    "math_scores_by_grade = pd.DataFrame({\"9th\":math_ninth,\n",
    "                                     \"10th\":math_tenth,\n",
    "                                     \"11th\": math_eleventh,\n",
    "                                     \"12th\": math_twelfth})\n",
    "\n",
    "math_scores_by_grade[\"9th\"]=math_scores_by_grade[\"9th\"].map(\"{:,.2f}\".format)\n",
    "math_scores_by_grade[\"10th\"]=math_scores_by_grade[\"10th\"].map(\"{:,.2f}\".format)\n",
    "math_scores_by_grade[\"11th\"]=math_scores_by_grade[\"11th\"].map(\"{:,.2f}\".format)\n",
    "math_scores_by_grade[\"12th\"]=math_scores_by_grade[\"12th\"].map(\"{:,.2f}\".format)\n",
    "\n",
    "math_scores_by_grade.head()\n"
   ]
  },
  {
   "cell_type": "markdown",
   "metadata": {},
   "source": [
    "## Reading Score by Grade "
   ]
  },
  {
   "cell_type": "markdown",
   "metadata": {},
   "source": [
    "* Perform the same operations as above for reading scores"
   ]
  },
  {
   "cell_type": "code",
   "execution_count": 29,
   "metadata": {},
   "outputs": [
    {
     "data": {
      "text/html": [
       "<div>\n",
       "<style scoped>\n",
       "    .dataframe tbody tr th:only-of-type {\n",
       "        vertical-align: middle;\n",
       "    }\n",
       "\n",
       "    .dataframe tbody tr th {\n",
       "        vertical-align: top;\n",
       "    }\n",
       "\n",
       "    .dataframe thead th {\n",
       "        text-align: right;\n",
       "    }\n",
       "</style>\n",
       "<table border=\"1\" class=\"dataframe\">\n",
       "  <thead>\n",
       "    <tr style=\"text-align: right;\">\n",
       "      <th></th>\n",
       "      <th>9th</th>\n",
       "      <th>10th</th>\n",
       "      <th>11th</th>\n",
       "      <th>12th</th>\n",
       "    </tr>\n",
       "    <tr>\n",
       "      <th>school_name</th>\n",
       "      <th></th>\n",
       "      <th></th>\n",
       "      <th></th>\n",
       "      <th></th>\n",
       "    </tr>\n",
       "  </thead>\n",
       "  <tbody>\n",
       "    <tr>\n",
       "      <th>Bailey High School</th>\n",
       "      <td>81.30</td>\n",
       "      <td>80.91</td>\n",
       "      <td>80.95</td>\n",
       "      <td>80.91</td>\n",
       "    </tr>\n",
       "    <tr>\n",
       "      <th>Cabrera High School</th>\n",
       "      <td>83.68</td>\n",
       "      <td>84.25</td>\n",
       "      <td>83.79</td>\n",
       "      <td>84.29</td>\n",
       "    </tr>\n",
       "    <tr>\n",
       "      <th>Figueroa High School</th>\n",
       "      <td>81.20</td>\n",
       "      <td>81.41</td>\n",
       "      <td>80.64</td>\n",
       "      <td>81.38</td>\n",
       "    </tr>\n",
       "    <tr>\n",
       "      <th>Ford High School</th>\n",
       "      <td>80.63</td>\n",
       "      <td>81.26</td>\n",
       "      <td>80.40</td>\n",
       "      <td>80.66</td>\n",
       "    </tr>\n",
       "    <tr>\n",
       "      <th>Griffin High School</th>\n",
       "      <td>83.37</td>\n",
       "      <td>83.71</td>\n",
       "      <td>84.29</td>\n",
       "      <td>84.01</td>\n",
       "    </tr>\n",
       "  </tbody>\n",
       "</table>\n",
       "</div>"
      ],
      "text/plain": [
       "                        9th   10th   11th   12th\n",
       "school_name                                     \n",
       "Bailey High School    81.30  80.91  80.95  80.91\n",
       "Cabrera High School   83.68  84.25  83.79  84.29\n",
       "Figueroa High School  81.20  81.41  80.64  81.38\n",
       "Ford High School      80.63  81.26  80.40  80.66\n",
       "Griffin High School   83.37  83.71  84.29  84.01"
      ]
     },
     "execution_count": 29,
     "metadata": {},
     "output_type": "execute_result"
    }
   ],
   "source": [
    "read_ninth=ninth_scores.groupby([\"school_name\"]).mean()[\"reading_score\"]\n",
    "read_tenth=tenth_scores.groupby([\"school_name\"]).mean()[\"reading_score\"]\n",
    "read_eleventh=eleventh_scores.groupby([\"school_name\"]).mean()[\"reading_score\"]\n",
    "read_twelfth=twelfth_scores.groupby([\"school_name\"]).mean()[\"reading_score\"]\n",
    "\n",
    "read_scores_by_grade = pd.DataFrame({\"9th\":read_ninth,\n",
    "                                     \"10th\":read_tenth,\n",
    "                                     \"11th\": read_eleventh,\n",
    "                                     \"12th\": read_twelfth})\n",
    "\n",
    "read_scores_by_grade[\"9th\"]=read_scores_by_grade[\"9th\"].map(\"{:,.2f}\".format)\n",
    "read_scores_by_grade[\"10th\"]=read_scores_by_grade[\"10th\"].map(\"{:,.2f}\".format)\n",
    "read_scores_by_grade[\"11th\"]=read_scores_by_grade[\"11th\"].map(\"{:,.2f}\".format)\n",
    "read_scores_by_grade[\"12th\"]=read_scores_by_grade[\"12th\"].map(\"{:,.2f}\".format)\n",
    "\n",
    "read_scores_by_grade.head()"
   ]
  },
  {
   "cell_type": "markdown",
   "metadata": {},
   "source": [
    "## Scores by School Spending"
   ]
  },
  {
   "cell_type": "markdown",
   "metadata": {},
   "source": [
    "* Create a table that breaks down school performances based on average Spending Ranges (Per Student). Use 4 reasonable bins to group school spending. Include in the table each of the following:\n",
    "  * Average Math Score\n",
    "  * Average Reading Score\n",
    "  * % Passing Math\n",
    "  * % Passing Reading\n",
    "  * Overall Passing Rate (Average of the above two)"
   ]
  },
  {
   "cell_type": "code",
   "execution_count": 30,
   "metadata": {},
   "outputs": [],
   "source": [
    "# Sample bins. Feel free to create your own bins.\n",
    "spending_bins = [0, 585, 615, 645, 675]\n",
    "group_names = [\"<$585\", \"$585-615\", \"$615-645\", \"$645-675\"]"
   ]
  },
  {
   "cell_type": "code",
   "execution_count": 31,
   "metadata": {
    "scrolled": true
   },
   "outputs": [
    {
     "data": {
      "text/html": [
       "<div>\n",
       "<style scoped>\n",
       "    .dataframe tbody tr th:only-of-type {\n",
       "        vertical-align: middle;\n",
       "    }\n",
       "\n",
       "    .dataframe tbody tr th {\n",
       "        vertical-align: top;\n",
       "    }\n",
       "\n",
       "    .dataframe thead th {\n",
       "        text-align: right;\n",
       "    }\n",
       "</style>\n",
       "<table border=\"1\" class=\"dataframe\">\n",
       "  <thead>\n",
       "    <tr style=\"text-align: right;\">\n",
       "      <th></th>\n",
       "      <th>Average Math Score</th>\n",
       "      <th>Average Reading Score</th>\n",
       "      <th>Math Passing Rate(%)</th>\n",
       "      <th>Reading Passing Rate(%)</th>\n",
       "      <th>Overall Passing Rate(%)</th>\n",
       "    </tr>\n",
       "    <tr>\n",
       "      <th>Spending Ranges (Per Student)</th>\n",
       "      <th></th>\n",
       "      <th></th>\n",
       "      <th></th>\n",
       "      <th></th>\n",
       "      <th></th>\n",
       "    </tr>\n",
       "  </thead>\n",
       "  <tbody>\n",
       "    <tr>\n",
       "      <th>&lt;$585</th>\n",
       "      <td>83.46</td>\n",
       "      <td>83.93</td>\n",
       "      <td>93.46%</td>\n",
       "      <td>96.61%</td>\n",
       "      <td>95.04%</td>\n",
       "    </tr>\n",
       "    <tr>\n",
       "      <th>$585-615</th>\n",
       "      <td>83.60</td>\n",
       "      <td>83.89</td>\n",
       "      <td>94.23%</td>\n",
       "      <td>95.90%</td>\n",
       "      <td>95.07%</td>\n",
       "    </tr>\n",
       "    <tr>\n",
       "      <th>$615-645</th>\n",
       "      <td>79.08</td>\n",
       "      <td>81.89</td>\n",
       "      <td>75.67%</td>\n",
       "      <td>86.11%</td>\n",
       "      <td>80.89%</td>\n",
       "    </tr>\n",
       "    <tr>\n",
       "      <th>$645-675</th>\n",
       "      <td>77.00</td>\n",
       "      <td>81.03</td>\n",
       "      <td>66.16%</td>\n",
       "      <td>81.13%</td>\n",
       "      <td>73.65%</td>\n",
       "    </tr>\n",
       "  </tbody>\n",
       "</table>\n",
       "</div>"
      ],
      "text/plain": [
       "                              Average Math Score Average Reading Score  \\\n",
       "Spending Ranges (Per Student)                                            \n",
       "<$585                                      83.46                 83.93   \n",
       "$585-615                                   83.60                 83.89   \n",
       "$615-645                                   79.08                 81.89   \n",
       "$645-675                                   77.00                 81.03   \n",
       "\n",
       "                              Math Passing Rate(%) Reading Passing Rate(%)  \\\n",
       "Spending Ranges (Per Student)                                                \n",
       "<$585                                       93.46%                  96.61%   \n",
       "$585-615                                    94.23%                  95.90%   \n",
       "$615-645                                    75.67%                  86.11%   \n",
       "$645-675                                    66.16%                  81.13%   \n",
       "\n",
       "                              Overall Passing Rate(%)  \n",
       "Spending Ranges (Per Student)                          \n",
       "<$585                                          95.04%  \n",
       "$585-615                                       95.07%  \n",
       "$615-645                                       80.89%  \n",
       "$645-675                                       73.65%  "
      ]
     },
     "execution_count": 31,
     "metadata": {},
     "output_type": "execute_result"
    }
   ],
   "source": [
    "school_budget_bins = pd.cut(per_student_budget, spending_bins, labels=group_names, right=True)\n",
    "\n",
    "\n",
    "budget_summary =  pd.DataFrame({\"Spending Ranges (Per Student)\":school_budget_bins,\n",
    "                                        \"Average Math Score\":average_math_score,\n",
    "                                        \"Average Reading Score\":average_reading_score,\n",
    "                                        \"Math Passing Rate(%)\":percent_mathpass_by_school,\n",
    "                                        \"Reading Passing Rate(%)\":percent_readpass_by_school,\n",
    "                                        \"Overall Passing Rate(%)\":overall_passing_rate})\n",
    "  \n",
    "budget_summary=budget_summary.groupby(\"Spending Ranges (Per Student)\").mean()[[\"Average Math Score\", \n",
    "                                                                            \"Average Reading Score\",\n",
    "                                                                            \"Math Passing Rate(%)\",\n",
    "                                                                            \"Reading Passing Rate(%)\",\n",
    "                                                                            \"Overall Passing Rate(%)\"]]\n",
    "\n",
    "budget_summary[\"Average Math Score\"]=budget_summary[\"Average Math Score\"].map(\"{:,.2f}\".format)\n",
    "budget_summary[\"Average Reading Score\"]=budget_summary[\"Average Reading Score\"].map(\"{:,.2f}\".format)\n",
    "budget_summary[\"Math Passing Rate(%)\"]=budget_summary[\"Math Passing Rate(%)\"].map(\"{:,.2f}%\".format)\n",
    "budget_summary[\"Reading Passing Rate(%)\"]=budget_summary[\"Reading Passing Rate(%)\"].map(\"{:,.2f}%\".format)\n",
    "budget_summary[\"Overall Passing Rate(%)\"]=budget_summary[\"Overall Passing Rate(%)\"].map(\"{:,.2f}%\".format) \n",
    "\n",
    "budget_summary"
   ]
  },
  {
   "cell_type": "markdown",
   "metadata": {},
   "source": [
    "## Scores by School Size"
   ]
  },
  {
   "cell_type": "markdown",
   "metadata": {},
   "source": [
    "* Perform the same operations as above, based on school size."
   ]
  },
  {
   "cell_type": "code",
   "execution_count": 32,
   "metadata": {},
   "outputs": [],
   "source": [
    "# Sample bins. Feel free to create your own bins.\n",
    "size_bins = [0, 1000, 2000, 5000]\n",
    "group_names = [\"Small (<1000)\", \"Medium (1000-2000)\", \"Large (2000-5000)\"]"
   ]
  },
  {
   "cell_type": "code",
   "execution_count": 33,
   "metadata": {
    "scrolled": false
   },
   "outputs": [
    {
     "data": {
      "text/html": [
       "<div>\n",
       "<style scoped>\n",
       "    .dataframe tbody tr th:only-of-type {\n",
       "        vertical-align: middle;\n",
       "    }\n",
       "\n",
       "    .dataframe tbody tr th {\n",
       "        vertical-align: top;\n",
       "    }\n",
       "\n",
       "    .dataframe thead th {\n",
       "        text-align: right;\n",
       "    }\n",
       "</style>\n",
       "<table border=\"1\" class=\"dataframe\">\n",
       "  <thead>\n",
       "    <tr style=\"text-align: right;\">\n",
       "      <th></th>\n",
       "      <th>Average Math Score</th>\n",
       "      <th>Average Reading Score</th>\n",
       "      <th>Math Passing Rate(%)</th>\n",
       "      <th>Reading Passing Rate(%)</th>\n",
       "      <th>Overall Passing Rate(%)</th>\n",
       "    </tr>\n",
       "    <tr>\n",
       "      <th>School Size</th>\n",
       "      <th></th>\n",
       "      <th></th>\n",
       "      <th></th>\n",
       "      <th></th>\n",
       "      <th></th>\n",
       "    </tr>\n",
       "  </thead>\n",
       "  <tbody>\n",
       "    <tr>\n",
       "      <th>Small (&lt;1000)</th>\n",
       "      <td>83.82</td>\n",
       "      <td>83.93</td>\n",
       "      <td>93.55%</td>\n",
       "      <td>96.10%</td>\n",
       "      <td>94.82%</td>\n",
       "    </tr>\n",
       "    <tr>\n",
       "      <th>Medium (1000-2000)</th>\n",
       "      <td>83.37</td>\n",
       "      <td>83.86</td>\n",
       "      <td>93.60%</td>\n",
       "      <td>96.79%</td>\n",
       "      <td>95.20%</td>\n",
       "    </tr>\n",
       "    <tr>\n",
       "      <th>Large (2000-5000)</th>\n",
       "      <td>77.75</td>\n",
       "      <td>81.34</td>\n",
       "      <td>69.96%</td>\n",
       "      <td>82.77%</td>\n",
       "      <td>76.36%</td>\n",
       "    </tr>\n",
       "  </tbody>\n",
       "</table>\n",
       "</div>"
      ],
      "text/plain": [
       "                   Average Math Score Average Reading Score  \\\n",
       "School Size                                                   \n",
       "Small (<1000)                   83.82                 83.93   \n",
       "Medium (1000-2000)              83.37                 83.86   \n",
       "Large (2000-5000)               77.75                 81.34   \n",
       "\n",
       "                   Math Passing Rate(%) Reading Passing Rate(%)  \\\n",
       "School Size                                                       \n",
       "Small (<1000)                    93.55%                  96.10%   \n",
       "Medium (1000-2000)               93.60%                  96.79%   \n",
       "Large (2000-5000)                69.96%                  82.77%   \n",
       "\n",
       "                   Overall Passing Rate(%)  \n",
       "School Size                                 \n",
       "Small (<1000)                       94.82%  \n",
       "Medium (1000-2000)                  95.20%  \n",
       "Large (2000-5000)                   76.36%  "
      ]
     },
     "execution_count": 33,
     "metadata": {},
     "output_type": "execute_result"
    }
   ],
   "source": [
    "school_size_bins = pd.cut(per_school_counts, size_bins, labels=group_names, right=True)\n",
    "\n",
    "size_summary =  pd.DataFrame({\"School Size\":school_size_bins,\n",
    "                                        \"Average Math Score\":average_math_score,\n",
    "                                        \"Average Reading Score\":average_reading_score,\n",
    "                                        \"Math Passing Rate(%)\":percent_mathpass_by_school,\n",
    "                                        \"Reading Passing Rate(%)\":percent_readpass_by_school,\n",
    "                                        \"Overall Passing Rate(%)\":overall_passing_rate})\n",
    "                                                      \n",
    "size_summary=size_summary.groupby(\"School Size\").mean()[[\"Average Math Score\", \n",
    "                                                        \"Average Reading Score\",\n",
    "                                                        \"Math Passing Rate(%)\",\n",
    "                                                        \"Reading Passing Rate(%)\",\n",
    "                                                        \"Overall Passing Rate(%)\"]]\n",
    "    \n",
    "\n",
    "size_summary[\"Average Math Score\"]=size_summary[\"Average Math Score\"].map(\"{:,.2f}\".format)\n",
    "size_summary[\"Average Reading Score\"]=size_summary[\"Average Reading Score\"].map(\"{:,.2f}\".format)\n",
    "size_summary[\"Math Passing Rate(%)\"]=size_summary[\"Math Passing Rate(%)\"].map(\"{:,.2f}%\".format)\n",
    "size_summary[\"Reading Passing Rate(%)\"]=size_summary[\"Reading Passing Rate(%)\"].map(\"{:,.2f}%\".format)\n",
    "size_summary[\"Overall Passing Rate(%)\"]=size_summary[\"Overall Passing Rate(%)\"].map(\"{:,.2f}%\".format)    \n",
    "\n",
    "\n",
    "\n",
    "size_summary"
   ]
  },
  {
   "cell_type": "markdown",
   "metadata": {},
   "source": [
    "## Scores by School Type"
   ]
  },
  {
   "cell_type": "markdown",
   "metadata": {},
   "source": [
    "* Perform the same operations as above, based on school type."
   ]
  },
  {
   "cell_type": "code",
   "execution_count": 34,
   "metadata": {},
   "outputs": [
    {
     "data": {
      "text/html": [
       "<div>\n",
       "<style scoped>\n",
       "    .dataframe tbody tr th:only-of-type {\n",
       "        vertical-align: middle;\n",
       "    }\n",
       "\n",
       "    .dataframe tbody tr th {\n",
       "        vertical-align: top;\n",
       "    }\n",
       "\n",
       "    .dataframe thead th {\n",
       "        text-align: right;\n",
       "    }\n",
       "</style>\n",
       "<table border=\"1\" class=\"dataframe\">\n",
       "  <thead>\n",
       "    <tr style=\"text-align: right;\">\n",
       "      <th></th>\n",
       "      <th>Average Math Score</th>\n",
       "      <th>Average Reading Score</th>\n",
       "      <th>Math Passing Rate(%)</th>\n",
       "      <th>Reading Passing Rate(%)</th>\n",
       "      <th>Overall Passing Rate(%)</th>\n",
       "    </tr>\n",
       "    <tr>\n",
       "      <th>School Type</th>\n",
       "      <th></th>\n",
       "      <th></th>\n",
       "      <th></th>\n",
       "      <th></th>\n",
       "      <th></th>\n",
       "    </tr>\n",
       "  </thead>\n",
       "  <tbody>\n",
       "    <tr>\n",
       "      <th>Charter</th>\n",
       "      <td>83.47</td>\n",
       "      <td>83.90</td>\n",
       "      <td>93.62%</td>\n",
       "      <td>96.59%</td>\n",
       "      <td>95.10%</td>\n",
       "    </tr>\n",
       "    <tr>\n",
       "      <th>District</th>\n",
       "      <td>76.96</td>\n",
       "      <td>80.97</td>\n",
       "      <td>66.55%</td>\n",
       "      <td>80.80%</td>\n",
       "      <td>73.67%</td>\n",
       "    </tr>\n",
       "  </tbody>\n",
       "</table>\n",
       "</div>"
      ],
      "text/plain": [
       "            Average Math Score Average Reading Score Math Passing Rate(%)  \\\n",
       "School Type                                                                 \n",
       "Charter                  83.47                 83.90               93.62%   \n",
       "District                 76.96                 80.97               66.55%   \n",
       "\n",
       "            Reading Passing Rate(%) Overall Passing Rate(%)  \n",
       "School Type                                                  \n",
       "Charter                      96.59%                  95.10%  \n",
       "District                     80.80%                  73.67%  "
      ]
     },
     "execution_count": 34,
     "metadata": {},
     "output_type": "execute_result"
    }
   ],
   "source": [
    "school_size_bins = pd.cut(per_school_counts, size_bins, labels=group_names, right=True)\n",
    "\n",
    "type_summary =  pd.DataFrame({\"School Type\":school_types,\n",
    "                                        \"Average Math Score\":average_math_score,\n",
    "                                        \"Average Reading Score\":average_reading_score,\n",
    "                                        \"Math Passing Rate(%)\":percent_mathpass_by_school,\n",
    "                                        \"Reading Passing Rate(%)\":percent_readpass_by_school,\n",
    "                                        \"Overall Passing Rate(%)\":overall_passing_rate})\n",
    "                                                      \n",
    "type_summary=type_summary.groupby(\"School Type\").mean()[[\"Average Math Score\", \n",
    "                                                        \"Average Reading Score\",\n",
    "                                                        \"Math Passing Rate(%)\",\n",
    "                                                        \"Reading Passing Rate(%)\",\n",
    "                                                        \"Overall Passing Rate(%)\"]]\n",
    "    \n",
    "\n",
    "type_summary[\"Average Math Score\"]=type_summary[\"Average Math Score\"].map(\"{:,.2f}\".format)\n",
    "type_summary[\"Average Reading Score\"]=type_summary[\"Average Reading Score\"].map(\"{:,.2f}\".format)\n",
    "type_summary[\"Math Passing Rate(%)\"]=type_summary[\"Math Passing Rate(%)\"].map(\"{:,.2f}%\".format)\n",
    "type_summary[\"Reading Passing Rate(%)\"]=type_summary[\"Reading Passing Rate(%)\"].map(\"{:,.2f}%\".format)\n",
    "type_summary[\"Overall Passing Rate(%)\"]=type_summary[\"Overall Passing Rate(%)\"].map(\"{:,.2f}%\".format)    \n",
    "\n",
    "\n",
    "type_summary"
   ]
  }
 ],
 "metadata": {
  "anaconda-cloud": {},
  "kernel_info": {
   "name": "python3"
  },
  "kernelspec": {
   "display_name": "Python 3",
   "language": "python",
   "name": "python3"
  },
  "language_info": {
   "codemirror_mode": {
    "name": "ipython",
    "version": 3
   },
   "file_extension": ".py",
   "mimetype": "text/x-python",
   "name": "python",
   "nbconvert_exporter": "python",
   "pygments_lexer": "ipython3",
   "version": "3.6.7"
  },
  "nteract": {
   "version": "0.8.4"
  }
 },
 "nbformat": 4,
 "nbformat_minor": 1
}
